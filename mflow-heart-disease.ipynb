{
 "cells": [
  {
   "cell_type": "markdown",
   "metadata": {},
   "source": [
    "# Develop ML model with MLflow\n",
    "\n",
    "This a notbook which summarise some of the steps from the tutorial [Develop ML model with MLflow and deploy to Kubernetes](https://mlflow.org/docs/latest/deployment/deploy-model-to-kubernetes/tutorial.html#develop-ml-model-with-mlflow-and-deploy-to-kubernetes) using a model the [Heart Disease Prediction using Logistic Regression](https://github.com/eduai-repo/ML-Demo/blob/main/2%20Classification/2.%20One%20with%20Heart%20Disease%20Prediction.ipynb)\n",
    "\n",
    "## Out of Scope\n",
    "* Deploying the Model to Kubernetes"
   ]
  },
  {
   "cell_type": "markdown",
   "metadata": {},
   "source": [
    "## Requirements\n",
    "\n",
    "* PyENV already installed. Please check the [link section](#links) (required to run mlserver)\n",
    "* A python virtual environment\n",
    "* mflow on the python virtual environment\n",
    "* ipykernel"
   ]
  },
  {
   "cell_type": "markdown",
   "metadata": {},
   "source": [
    "First thing first, we will run mflow server ui on port 5000\n",
    "\n",
    "Then, we checkout if there is a process using port 5000\n",
    "\n",
    "WARNING: If you experience any issue, please check out if there is a process using port 5000 by executing ```lsof -i :5000```"
   ]
  },
  {
   "cell_type": "code",
   "execution_count": null,
   "metadata": {},
   "outputs": [],
   "source": [
    "import subprocess, socket\n",
    "\n",
    "\n",
    "with socket.socket(socket.AF_INET, socket.SOCK_STREAM) as sock:\n",
    "    sock.settimeout(5)\n",
    "    result = sock.connect_ex(('localhost',5000))\n",
    "\n",
    "if result == 0:\n",
    "    print('Server already running')\n",
    "else:\n",
    "    command = \"mlflow ui --port 5000\"\n",
    "    \n",
    "    process = subprocess.Popen(command, shell=True)\n",
    "    \n",
    "    print(f\"Started background process with PID: {process.pid}\")\n"
   ]
  },
  {
   "cell_type": "markdown",
   "metadata": {},
   "source": [
    "## Training the Model"
   ]
  },
  {
   "cell_type": "code",
   "execution_count": null,
   "metadata": {},
   "outputs": [],
   "source": [
    "import mlflow\n",
    "\n",
    "import numpy as np\n",
    "import pandas as pd\n",
    "from sklearn import metrics\n",
    "from sklearn.linear_model import LogisticRegression\n",
    "from sklearn.model_selection import train_test_split\n",
    "from mlflow.models import infer_signature\n",
    "from mlflow.client import MlflowClient\n",
    "from mlflow.models import infer_signature\n"
   ]
  },
  {
   "cell_type": "markdown",
   "metadata": {},
   "source": [
    "### Loading data and trasnforming"
   ]
  },
  {
   "cell_type": "code",
   "execution_count": null,
   "metadata": {},
   "outputs": [],
   "source": [
    "dataset_source_path = 'data/heart.csv'\n",
    "raw_data = pd.read_csv(dataset_source_path)\n",
    "raw_data.head()"
   ]
  },
  {
   "cell_type": "markdown",
   "metadata": {},
   "source": [
    "#### Converting categorical variables into numbers"
   ]
  },
  {
   "cell_type": "code",
   "execution_count": null,
   "metadata": {},
   "outputs": [],
   "source": [
    "history_mapping = {'Absent': 0,'Present': 1}\n",
    "raw_data[\"famhist\"] = raw_data[\"famhist\"].map(history_mapping)\n",
    "\n",
    "raw_data.head()"
   ]
  },
  {
   "cell_type": "code",
   "execution_count": null,
   "metadata": {},
   "outputs": [],
   "source": [
    "\n",
    "def eval_metrics(pred, actual):\n",
    "    rmse = np.sqrt(metrics.mean_squared_error(actual, pred))\n",
    "    mae = metrics.mean_absolute_error(actual, pred)\n",
    "    r2 = metrics.r2_score(actual, pred)\n",
    "    return rmse, mae, r2\n",
    "\n",
    "\n",
    "# Extract the features and target data separately\n",
    "X=raw_data[['tobacco','ldl','adiposity','famhist','typea','obesity', 'alcohol','age']]\n",
    "y=raw_data[['chd']] \n",
    "\n",
    "# Split the data into training and test sets\n",
    "X_train, X_test, y_train, y_test = train_test_split(X, y, test_size=0.3, random_state=0)\n"
   ]
  },
  {
   "cell_type": "markdown",
   "metadata": {},
   "source": [
    "### Defining a mflow experiment"
   ]
  },
  {
   "cell_type": "code",
   "execution_count": null,
   "metadata": {},
   "outputs": [],
   "source": [
    "\n",
    "EXPERIMENT_NAME = \"heart-disease\"\n",
    "DEFAULT_RUN_NAME=f\"{EXPERIMENT_NAME}-default-params\"\n",
    "\n",
    "# Set th experiment name\n",
    "mlflow.set_experiment(EXPERIMENT_NAME)\n",
    "\n",
    "# Enable auto-logging to MLflow\n",
    "mlflow.sklearn.autolog()\n",
    "\n",
    "\n",
    "# Start a run and train a model\n",
    "with mlflow.start_run(run_name=DEFAULT_RUN_NAME) as run:\n",
    "    lr = LogisticRegression( C=100, penalty='l2',solver='liblinear')\n",
    "\n",
    "    # Fit\n",
    "    lr.fit(X_train, y_train)\n",
    "\n",
    "    # Build the Evaluation Dataset from the test set\n",
    "    y_pred = lr.predict(X_test)\n",
    "\n",
    "\n",
    "\n",
    "    metrics = eval_metrics(y_pred, y_test)\n",
    "    \n",
    "\n",
    "\n",
    "\n",
    "# Retrieve the run information\n",
    "logged_run = mlflow.get_run(run.info.run_id)\n",
    "\n",
    "# Retrieve the Dataset object\n",
    "logged_dataset = logged_run.inputs.dataset_inputs[0].dataset\n",
    "\n",
    "# View some of the recorded Dataset information\n",
    "print(f\"Dataset name: {logged_dataset.name}\")\n",
    "print(f\"Dataset digest: {logged_dataset.digest}\")\n",
    "print(f\"Dataset profile: {logged_dataset.profile}\")\n",
    "print(f\"Dataset schema: {logged_dataset.schema}\")\n",
    "\n"
   ]
  },
  {
   "cell_type": "markdown",
   "metadata": {},
   "source": [
    "### Logging the model"
   ]
  },
  {
   "cell_type": "code",
   "execution_count": null,
   "metadata": {},
   "outputs": [],
   "source": [
    "REGISTERED_MODEL_NAME = \"heart-disease\"\n",
    "ARTIFACT_PATH = f\"{REGISTERED_MODEL_NAME}-model\"\n",
    "MODEL = \"LogisticRegression\"\n",
    "\n",
    "\n",
    "# Start an MLflow run\n",
    "with mlflow.start_run(run_name=\"logging-model\") as run:\n",
    "\n",
    "    lr = LogisticRegression( C=100, penalty='l2',solver='liblinear')\n",
    "\n",
    "    # Fit\n",
    "    lr.fit(X_train, y_train)\n",
    "\n",
    "    # Build the Evaluation Dataset from the test set\n",
    "    y_pred = lr.predict(X_test)\n",
    "    \n",
    "    # Set a tag that we can use to remind ourselves what this run was for\n",
    "    mlflow.set_tag(REGISTERED_MODEL_NAME, f\"Basic {MODEL} model for {REGISTERED_MODEL_NAME}\")\n",
    "\n",
    "    # Infer the model signature\n",
    "    # https://mlflow.org/docs/latest/model/signatures.html\n",
    "    signature = infer_signature(X_train, lr.predict(X_train))\n",
    "\n",
    "    # Log the model\n",
    "    model_info = mlflow.sklearn.log_model(\n",
    "        sk_model=lr,\n",
    "        artifact_path=ARTIFACT_PATH,\n",
    "        signature=signature,\n",
    "        input_example=X_train,\n",
    "        registered_model_name=REGISTERED_MODEL_NAME,\n",
    "    )\n",
    "    # set extra tags on the model\n",
    "    client = MlflowClient(mlflow.get_tracking_uri())\n",
    "    model_info = client.get_latest_versions(REGISTERED_MODEL_NAME)[0]\n",
    "    client.set_model_version_tag(\n",
    "        name=REGISTERED_MODEL_NAME,\n",
    "        version=model_info.version,\n",
    "        key='model',\n",
    "        value=MODEL\n",
    "    )\n",
    "\n",
    "    print(f'Model Info: {model_info}')\n"
   ]
  },
  {
   "cell_type": "markdown",
   "metadata": {},
   "source": [
    "### Testing Model Serving Locally"
   ]
  },
  {
   "cell_type": "markdown",
   "metadata": {},
   "source": [
    "To test the model we need to run mlserver locally according to [step 6](https://mlflow.org/docs/latest/deployment/deploy-model-to-kubernetes/tutorial.html#step-6-testing-model-serving-locally) \n",
    "\n",
    "To get a mlserver up and running we will run the next cell to have the command bellow with all information ```mlflow models serve -m runs:/{run.info.run_id}/{ARTIFACT_PATH} -p {port} --enable-mlserver```"
   ]
  },
  {
   "cell_type": "code",
   "execution_count": null,
   "metadata": {},
   "outputs": [],
   "source": [
    "import subprocess, socket\n",
    "\n",
    "### Getting runID\n",
    "port  = 1234\n",
    "\n",
    "with socket.socket(socket.AF_INET, socket.SOCK_STREAM) as sock:\n",
    "    sock.settimeout(5)\n",
    "    result = sock.connect_ex(('localhost',port))\n",
    "\n",
    "if result == 0:\n",
    "    print('Server already running')\n",
    "else:\n",
    "    command = f\"mlflow models serve -m runs:/{run.info.run_id}/{ARTIFACT_PATH} -p {port} --enable-mlserver\"\n",
    "    \n",
    "    print(f' Please execute this command bellow:\\n {command}')"
   ]
  },
  {
   "cell_type": "markdown",
   "metadata": {},
   "source": [
    "Then we will query the endpoint using the next python cell"
   ]
  },
  {
   "cell_type": "code",
   "execution_count": null,
   "metadata": {},
   "outputs": [],
   "source": [
    "import requests\n",
    "\n",
    "url = f'http://localhost:{port}/invocations'\n",
    "\n",
    "headers = {'Content-Type': 'application/json'}\n",
    "\n",
    "data = {\"inputs\": [{'tobacco': 12,\n",
    "        'ldl': 5.73,\n",
    "        'adiposity': 23.11,\n",
    "        'famhist' : 1,\n",
    "        'typea' : 49,\n",
    "        'obesity' :  25.3,\n",
    "        'alcohol' : 97.2,\n",
    "        'age' : 52 }]}\n",
    "\n",
    "try:\n",
    "    response = requests.post(url,headers=headers, json=data)\n",
    "    print(f'Status Code: {response.status_code}, Result: {response.json()}')\n",
    "except Exception as e:\n",
    "    print(f'ERROR!!: An expected error happened: {e}')"
   ]
  }
 ],
 "metadata": {
  "kernelspec": {
   "display_name": ".venv",
   "language": "python",
   "name": "python3"
  },
  "language_info": {
   "codemirror_mode": {
    "name": "ipython",
    "version": 3
   },
   "file_extension": ".py",
   "mimetype": "text/x-python",
   "name": "python",
   "nbconvert_exporter": "python",
   "pygments_lexer": "ipython3",
   "version": "3.10.12"
  }
 },
 "nbformat": 4,
 "nbformat_minor": 2
}
